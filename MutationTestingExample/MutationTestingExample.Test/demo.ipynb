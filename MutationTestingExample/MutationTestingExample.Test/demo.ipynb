{
 "cells": [
  {
   "attachments": {},
   "cell_type": "markdown",
   "metadata": {},
   "source": [
    "# Mutation Testing\n",
    "Wie teste ich meine Unit tests?\n",
    "\n",
    "Tool: Dotnet Stryker: https://stryker-mutator.io/docs/stryker-net/Getting-started"
   ]
  },
  {
   "attachments": {},
   "cell_type": "markdown",
   "metadata": {},
   "source": [
    "# Beispiel-Code: Ein Fahrrad"
   ]
  },
  {
   "attachments": {},
   "cell_type": "markdown",
   "metadata": {},
   "source": [
    "# Installation"
   ]
  },
  {
   "cell_type": "code",
   "execution_count": 10,
   "metadata": {
    "vscode": {
     "languageId": "powershell"
    }
   },
   "outputs": [
    {
     "name": "stderr",
     "output_type": "stream",
     "text": [
      "Tool 'dotnet-stryker' is already installed.\n"
     ]
    }
   ],
   "source": [
    "!dotnet tool install -g dotnet-stryker"
   ]
  },
  {
   "cell_type": "code",
   "execution_count": 11,
   "metadata": {
    "vscode": {
     "languageId": "powershell"
    }
   },
   "outputs": [
    {
     "name": "stdout",
     "output_type": "stream",
     "text": [
      "The template \"Dotnet local tool manifest file\" was created successfully.\n",
      "\n",
      "You can invoke the tool from this directory using the following commands: 'dotnet tool run dotnet-stryker' or 'dotnet dotnet-stryker'.\n",
      "Tool 'dotnet-stryker' (version '3.8.1') was successfully installed. Entry is added to the manifest file c:\\Users\\Marianczuk\\source\\repos\\mutation-testing-example\\MutationTestingExample\\MutationTestingExample.Test\\.config\\dotnet-tools.json.\n"
     ]
    }
   ],
   "source": [
    "!dotnet new tool-manifest\n",
    "!dotnet tool install dotnet-stryker"
   ]
  },
  {
   "attachments": {},
   "cell_type": "markdown",
   "metadata": {},
   "source": [
    "Anlegen der stryker-config.json"
   ]
  },
  {
   "attachments": {},
   "cell_type": "markdown",
   "metadata": {},
   "source": [
    "# Ausführen"
   ]
  }
 ],
 "metadata": {
  "kernelspec": {
   "display_name": "Python 3",
   "language": "python",
   "name": "python3"
  },
  "language_info": {
   "codemirror_mode": {
    "name": "ipython",
    "version": 3
   },
   "file_extension": ".py",
   "mimetype": "text/x-python",
   "name": "python",
   "nbconvert_exporter": "python",
   "pygments_lexer": "ipython3",
   "version": "3.11.3"
  },
  "orig_nbformat": 4
 },
 "nbformat": 4,
 "nbformat_minor": 2
}
